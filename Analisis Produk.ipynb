{
 "cells": [
  {
   "cell_type": "code",
   "execution_count": 1,
   "metadata": {},
   "outputs": [],
   "source": [
    "#Sebelum memulai analisis data, pertama dilihat dahulu apakah data memiliki duplicate dan missing value.\n",
    "\n",
    "import numpy as np\n",
    "import pandas as pd\n",
    "import seaborn as sns\n",
    "import matplotlib.pyplot as plt\n",
    "\n",
    "DATA=pd.read_csv('DATA.csv', delimiter=';')"
   ]
  },
  {
   "cell_type": "code",
   "execution_count": 2,
   "metadata": {},
   "outputs": [
    {
     "data": {
      "text/plain": [
       "1037"
      ]
     },
     "execution_count": 2,
     "metadata": {},
     "output_type": "execute_result"
    }
   ],
   "source": [
    "DATA.duplicated().sum() "
   ]
  },
  {
   "cell_type": "code",
   "execution_count": 3,
   "metadata": {},
   "outputs": [
    {
     "data": {
      "text/plain": [
       "response                             0\n",
       "platform                             0\n",
       "category_name                        0\n",
       "condition                            0\n",
       "stock                                0\n",
       "free_shipping_coverage_count         0\n",
       "courier_count                        0\n",
       "view_count                           0\n",
       "seller_delivery_response_time    18976\n",
       "favorite_count                       0\n",
       "sold                                 0\n",
       "varUser_1                          864\n",
       "varUser_2                            0\n",
       "varUser_3                            0\n",
       "varUser_4                            0\n",
       "varSeller_1                          0\n",
       "varSeller_2                          0\n",
       "varSeller_3                          0\n",
       "varSeller_4                          0\n",
       "varSeller_5                          0\n",
       "varSeller_6                      16615\n",
       "varSeller_7                      71142\n",
       "varSeller_8                      16615\n",
       "varSeller_9                          0\n",
       "varProduct_1                         0\n",
       "varProduct_2                         0\n",
       "varProduct_3                         0\n",
       "varProduct_4                         0\n",
       "varProduct_5                         0\n",
       "varGeneral_1                         0\n",
       "dtype: int64"
      ]
     },
     "execution_count": 3,
     "metadata": {},
     "output_type": "execute_result"
    }
   ],
   "source": [
    "DATA.isnull().sum() "
   ]
  },
  {
   "cell_type": "code",
   "execution_count": 4,
   "metadata": {},
   "outputs": [],
   "source": [
    "#Terdapat 1037 data duplicated dan benyak missing value, selanjutnya akan didrop semua data yang duplicated\n",
    "\n",
    "DATA = DATA.drop_duplicates()"
   ]
  },
  {
   "cell_type": "code",
   "execution_count": 5,
   "metadata": {},
   "outputs": [],
   "source": [
    "#Kemudian kita drop juga data NULL atau missing value dengan cara mengambil tabel DATA berdasarkan kriteria\n",
    "\n",
    "DATAclean = DATA[DATA['seller_delivery_response_time'].notnull()].iloc[:,0:11]"
   ]
  },
  {
   "cell_type": "code",
   "execution_count": 6,
   "metadata": {},
   "outputs": [
    {
     "data": {
      "text/plain": [
       "0"
      ]
     },
     "execution_count": 6,
     "metadata": {},
     "output_type": "execute_result"
    }
   ],
   "source": [
    "#cek kembali data duplicated dan missing value\n",
    "\n",
    "DATA.duplicated().sum() "
   ]
  },
  {
   "cell_type": "code",
   "execution_count": 7,
   "metadata": {},
   "outputs": [
    {
     "data": {
      "text/plain": [
       "response                         0\n",
       "platform                         0\n",
       "category_name                    0\n",
       "condition                        0\n",
       "stock                            0\n",
       "free_shipping_coverage_count     0\n",
       "courier_count                    0\n",
       "view_count                       0\n",
       "seller_delivery_response_time    0\n",
       "favorite_count                   0\n",
       "sold                             0\n",
       "dtype: int64"
      ]
     },
     "execution_count": 7,
     "metadata": {},
     "output_type": "execute_result"
    }
   ],
   "source": [
    "DATAclean.isnull().sum() "
   ]
  },
  {
   "cell_type": "code",
   "execution_count": 8,
   "metadata": {},
   "outputs": [],
   "source": [
    "#Data sudah tidak memiliki kolom duplicated dan missing value"
   ]
  },
  {
   "cell_type": "code",
   "execution_count": 9,
   "metadata": {},
   "outputs": [
    {
     "data": {
      "text/plain": [
       "<matplotlib.axes._subplots.AxesSubplot at 0x92811d0>"
      ]
     },
     "execution_count": 9,
     "metadata": {},
     "output_type": "execute_result"
    },
    {
     "data": {
      "image/png": "[encoded data removed]",
      "text/plain": [
       "<Figure size 432x288 with 1 Axes>"
      ]
     },
     "metadata": {},
     "output_type": "display_data"
    }
   ],
   "source": [
    "reduced=pd.concat([DATAclean[DATAclean['platform']==0].sample(DATAclean[DATAclean['platform']==1].shape[0]),DATAclean[DATAclean['platform']==1],DATAclean[DATAclean['platform']==2]], axis=0).reset_index()\n",
    "reduced=reduced.drop(['index'],axis=1)\n",
    "plat_resp=reduced.groupby(['platform', 'response']).size().unstack()\n",
    "plat_resp.plot.bar()"
   ]
  },
  {
   "cell_type": "code",
   "execution_count": 10,
   "metadata": {},
   "outputs": [
    {
     "data": {
      "text/plain": [
       "43"
      ]
     },
     "execution_count": 10,
     "metadata": {},
     "output_type": "execute_result"
    }
   ],
   "source": [
    "platform0=DATAclean[DATAclean['platform']==2]\n",
    "plt0res1=platform0[platform0['response']==1].shape[0]\n",
    "plt0res0=platform0[platform0['response']==0].shape[0]\n",
    "\n",
    "plt0res0\n"
   ]
  },
  {
   "cell_type": "code",
   "execution_count": 11,
   "metadata": {},
   "outputs": [
    {
     "data": {
      "text/plain": [
       "0.02202574234184891"
      ]
     },
     "execution_count": 11,
     "metadata": {},
     "output_type": "execute_result"
    }
   ],
   "source": [
    "platform1=DATAclean[DATAclean['platform']==1]\n",
    "plt1res1=platform1[platform1['response']==1].shape[0]\n",
    "plt1res0=platform1[platform1['response']==0].shape[0]\n",
    "\n",
    "plt1res1/plt1res0"
   ]
  },
  {
   "cell_type": "code",
   "execution_count": 12,
   "metadata": {},
   "outputs": [
    {
     "data": {
      "text/plain": [
       "1.412756551418793"
      ]
     },
     "execution_count": 12,
     "metadata": {},
     "output_type": "execute_result"
    }
   ],
   "source": [
    "0.02202574234184891/0.015590614193032096"
   ]
  },
  {
   "cell_type": "code",
   "execution_count": 13,
   "metadata": {},
   "outputs": [
    {
     "data": {
      "text/plain": [
       "0.001722553973357832"
      ]
     },
     "execution_count": 13,
     "metadata": {},
     "output_type": "execute_result"
    }
   ],
   "source": [
    "platform0.shape[0]/platform1.shape[0]"
   ]
  },
  {
   "cell_type": "code",
   "execution_count": 14,
   "metadata": {},
   "outputs": [
    {
     "data": {
      "text/plain": [
       "0.003552397868561279"
      ]
     },
     "execution_count": 14,
     "metadata": {},
     "output_type": "execute_result"
    }
   ],
   "source": [
    "plt0res1/plt1res1"
   ]
  },
  {
   "cell_type": "code",
   "execution_count": 15,
   "metadata": {},
   "outputs": [
    {
     "data": {
      "text/plain": [
       "262    13610\n",
       "137     5382\n",
       "22      5309\n",
       "Name: category_name, dtype: int64"
      ]
     },
     "execution_count": 15,
     "metadata": {},
     "output_type": "execute_result"
    }
   ],
   "source": [
    "group_counts = DATAclean['category_name'].value_counts()\n",
    "top3=group_counts.head(3)\n",
    "top3\n"
   ]
  },
  {
   "cell_type": "code",
   "execution_count": 16,
   "metadata": {},
   "outputs": [
    {
     "data": {
      "text/plain": [
       "<matplotlib.axes._subplots.AxesSubplot at 0x95cefb0>"
      ]
     },
     "execution_count": 16,
     "metadata": {},
     "output_type": "execute_result"
    },
    {
     "data": {
      "image/png": "[encoded data removed]",
      "text/plain": [
       "<Figure size 432x288 with 1 Axes>"
      ]
     },
     "metadata": {},
     "output_type": "display_data"
    }
   ],
   "source": [
    "top3join=DATAclean.loc[(DATAclean['category_name'] == 262)].combine_first(DATAclean.loc[(DATAclean['category_name'] == 22)]).combine_first(DATAclean.loc[(DATAclean['category_name'] == 137)])\n",
    "barchart=top3join.groupby(['category_name', 'response']).size().unstack()\n",
    "barchart.plot.bar()"
   ]
  },
  {
   "cell_type": "code",
   "execution_count": 17,
   "metadata": {},
   "outputs": [
    {
     "data": {
      "text/plain": [
       "0.010924844603503485"
      ]
     },
     "execution_count": 17,
     "metadata": {},
     "output_type": "execute_result"
    }
   ],
   "source": [
    "grup22=top3join[top3join['category_name']==22]\n",
    "grup22res1=grup22[grup22['response']==1].shape[0]\n",
    "grup22res1/grup22.shape[0]"
   ]
  },
  {
   "cell_type": "code",
   "execution_count": 18,
   "metadata": {},
   "outputs": [
    {
     "data": {
      "text/plain": [
       "0.019881085098476404"
      ]
     },
     "execution_count": 18,
     "metadata": {},
     "output_type": "execute_result"
    }
   ],
   "source": [
    "grup137=top3join[top3join['category_name']==137]\n",
    "grup137res1=grup137[grup137['response']==1].shape[0]\n",
    "grup137res1/grup137.shape[0]\n"
   ]
  },
  {
   "cell_type": "code",
   "execution_count": 19,
   "metadata": {},
   "outputs": [
    {
     "data": {
      "text/plain": [
       "0.011021307861866276"
      ]
     },
     "execution_count": 19,
     "metadata": {},
     "output_type": "execute_result"
    }
   ],
   "source": [
    "grup262=top3join[top3join['category_name']==262]\n",
    "grup262res1=grup262[grup262['response']==1].shape[0]\n",
    "grup262res1/grup262.shape[0]\n"
   ]
  },
  {
   "cell_type": "code",
   "execution_count": 20,
   "metadata": {},
   "outputs": [
    {
     "data": {
      "text/plain": [
       "<matplotlib.axes._subplots.AxesSubplot at 0xabe4b90>"
      ]
     },
     "execution_count": 20,
     "metadata": {},
     "output_type": "execute_result"
    },
    {
     "data": {
      "image/png": "[encoded data removed]",
      "text/plain": [
       "<Figure size 432x288 with 1 Axes>"
      ]
     },
     "metadata": {},
     "output_type": "display_data"
    }
   ],
   "source": [
    "barchart=DATAclean.groupby(['condition', 'response']).size().unstack()\n",
    "barchart.plot.bar()\n"
   ]
  },
  {
   "cell_type": "code",
   "execution_count": 21,
   "metadata": {},
   "outputs": [
    {
     "data": {
      "text/plain": [
       "0.016849428614134496"
      ]
     },
     "execution_count": 21,
     "metadata": {},
     "output_type": "execute_result"
    }
   ],
   "source": [
    "new=DATAclean[DATAclean['condition']=='new']\n",
    "peluangBeliBaru=new[new['response']==1].shape[0]/new.shape[0]\n",
    "peluangBeliBaru\n"
   ]
  },
  {
   "cell_type": "code",
   "execution_count": 22,
   "metadata": {},
   "outputs": [
    {
     "data": {
      "text/plain": [
       "0.006345109426251546"
      ]
     },
     "execution_count": 22,
     "metadata": {},
     "output_type": "execute_result"
    }
   ],
   "source": [
    "used=DATAclean[DATAclean['condition']=='used']\n",
    "peluangBeliBekas=used[used['response']==1].shape[0]/used.shape[0]\n",
    "peluangBeliBekas"
   ]
  },
  {
   "cell_type": "code",
   "execution_count": 23,
   "metadata": {},
   "outputs": [
    {
     "data": {
      "text/plain": [
       "31.52542372881356"
      ]
     },
     "execution_count": 23,
     "metadata": {},
     "output_type": "execute_result"
    }
   ],
   "source": [
    "new[new['response']==1].shape[0]/used[used['response']==1].shape[0]"
   ]
  },
  {
   "cell_type": "code",
   "execution_count": 24,
   "metadata": {},
   "outputs": [
    {
     "data": {
      "text/plain": [
       "<matplotlib.axes._subplots.AxesSubplot at 0xac33af0>"
      ]
     },
     "execution_count": 24,
     "metadata": {},
     "output_type": "execute_result"
    },
    {
     "data": {
      "image/png": "[encoded data removed]",
      "text/plain": [
       "<Figure size 432x288 with 1 Axes>"
      ]
     },
     "metadata": {},
     "output_type": "display_data"
    }
   ],
   "source": [
    "DATAclean.plot(kind='scatter', x='stock', y='response')"
   ]
  },
  {
   "cell_type": "code",
   "execution_count": 25,
   "metadata": {},
   "outputs": [
    {
     "data": {
      "text/plain": [
       "25.40858375294008"
      ]
     },
     "execution_count": 25,
     "metadata": {},
     "output_type": "execute_result"
    }
   ],
   "source": [
    "response0=DATAclean[DATAclean['response']==0]\n",
    "response0['stock'].mean()\n"
   ]
  },
  {
   "cell_type": "code",
   "execution_count": 26,
   "metadata": {},
   "outputs": [
    {
     "data": {
      "text/plain": [
       "34.521886399166235"
      ]
     },
     "execution_count": 26,
     "metadata": {},
     "output_type": "execute_result"
    }
   ],
   "source": [
    "response1=DATAclean[DATAclean['response']==1]\n",
    "response1['stock'].mean()\n"
   ]
  },
  {
   "cell_type": "code",
   "execution_count": 27,
   "metadata": {},
   "outputs": [
    {
     "data": {
      "text/plain": [
       "<matplotlib.axes._subplots.AxesSubplot at 0xac73190>"
      ]
     },
     "execution_count": 27,
     "metadata": {},
     "output_type": "execute_result"
    },
    {
     "data": {
      "image/png": "[encoded data removed]",
      "text/plain": [
       "<Figure size 432x288 with 1 Axes>"
      ]
     },
     "metadata": {},
     "output_type": "display_data"
    }
   ],
   "source": [
    "DATAclean.plot(kind='scatter', x='free_shipping_coverage_count', y='response')"
   ]
  },
  {
   "cell_type": "code",
   "execution_count": 28,
   "metadata": {},
   "outputs": [
    {
     "data": {
      "text/plain": [
       "31623"
      ]
     },
     "execution_count": 28,
     "metadata": {},
     "output_type": "execute_result"
    }
   ],
   "source": [
    "response1=DATAclean[DATAclean['response']==0]\n",
    "response1['stock'].max()"
   ]
  },
  {
   "cell_type": "code",
   "execution_count": 29,
   "metadata": {},
   "outputs": [
    {
     "data": {
      "text/plain": [
       "<matplotlib.axes._subplots.AxesSubplot at 0xacb1e50>"
      ]
     },
     "execution_count": 29,
     "metadata": {},
     "output_type": "execute_result"
    },
    {
     "data": {
      "image/png": "[encoded data removed]",
      "text/plain": [
       "<Figure size 432x288 with 1 Axes>"
      ]
     },
     "metadata": {},
     "output_type": "display_data"
    }
   ],
   "source": [
    "DATAclean.plot(kind='scatter', x='free_shipping_coverage_count', y='response', title='Free Shipping Coverage x Response')"
   ]
  },
  {
   "cell_type": "code",
   "execution_count": 30,
   "metadata": {},
   "outputs": [
    {
     "name": "stdout",
     "output_type": "stream",
     "text": [
      "6.555690628968652\n",
      "6.0\n"
     ]
    },
    {
     "data": {
      "image/png": "[encoded data removed]",
      "text/plain": [
       "<Figure size 432x288 with 1 Axes>"
      ]
     },
     "metadata": {},
     "output_type": "display_data"
    }
   ],
   "source": [
    "DATAclean.plot(kind='scatter', x='courier_count', y='response', title='Courier Count x Response')\n",
    "print(DATAclean['courier_count'].mean())\n",
    "print(DATAclean['courier_count'].median())"
   ]
  },
  {
   "cell_type": "code",
   "execution_count": 31,
   "metadata": {},
   "outputs": [
    {
     "name": "stdout",
     "output_type": "stream",
     "text": [
      "51.304984626696076\n",
      "24.0\n"
     ]
    },
    {
     "data": {
      "image/png": "[encoded data removed]",
      "text/plain": [
       "<Figure size 432x288 with 1 Axes>"
      ]
     },
     "metadata": {},
     "output_type": "display_data"
    }
   ],
   "source": [
    "DATAclean.plot(kind='scatter', x='view_count', y='response', title='View Count x Response')\n",
    "print(DATAclean['view_count'].mean())\n",
    "print(DATAclean['view_count'].median())"
   ]
  },
  {
   "cell_type": "code",
   "execution_count": 32,
   "metadata": {},
   "outputs": [
    {
     "data": {
      "text/plain": [
       "<matplotlib.axes._subplots.AxesSubplot at 0x8edb190>"
      ]
     },
     "execution_count": 32,
     "metadata": {},
     "output_type": "execute_result"
    },
    {
     "data": {
      "image/png": "[encoded data removed]",
      "text/plain": [
       "<Figure size 432x288 with 1 Axes>"
      ]
     },
     "metadata": {},
     "output_type": "display_data"
    }
   ],
   "source": [
    "DATAclean.plot(kind='scatter', x='seller_delivery_response_time', y='response', title='Seller Delivery Response Time x Response')"
   ]
  },
  {
   "cell_type": "code",
   "execution_count": 33,
   "metadata": {},
   "outputs": [
    {
     "data": {
      "text/plain": [
       "<matplotlib.axes._subplots.AxesSubplot at 0x8f16130>"
      ]
     },
     "execution_count": 33,
     "metadata": {},
     "output_type": "execute_result"
    },
    {
     "data": {
      "image/png": "[encoded data removed]",
      "text/plain": [
       "<Figure size 432x288 with 1 Axes>"
      ]
     },
     "metadata": {},
     "output_type": "display_data"
    }
   ],
   "source": [
    "DATAclean.plot(kind='scatter', x='favorite_count', y='response', title='Favorite Count x Response')"
   ]
  },
  {
   "cell_type": "code",
   "execution_count": 34,
   "metadata": {},
   "outputs": [
    {
     "data": {
      "text/plain": [
       "<matplotlib.axes._subplots.AxesSubplot at 0x11572f10>"
      ]
     },
     "execution_count": 34,
     "metadata": {},
     "output_type": "execute_result"
    },
    {
     "data": {
      "image/png": "[encoded data removed]",
      "text/plain": [
       "<Figure size 432x288 with 1 Axes>"
      ]
     },
     "metadata": {},
     "output_type": "display_data"
    }
   ],
   "source": [
    "DATAclean.plot(kind='scatter', x='sold', y='response', title='Sold x Response')"
   ]
  },
  {
   "cell_type": "code",
   "execution_count": 35,
   "metadata": {},
   "outputs": [
    {
     "data": {
      "text/plain": [
       "<matplotlib.axes._subplots.AxesSubplot at 0x115afa30>"
      ]
     },
     "execution_count": 35,
     "metadata": {},
     "output_type": "execute_result"
    },
    {
     "data": {
      "image/png": "[encoded data removed]",
      "text/plain": [
       "<Figure size 432x288 with 1 Axes>"
      ]
     },
     "metadata": {},
     "output_type": "display_data"
    }
   ],
   "source": [
    "DATAclean.plot(kind='scatter', x='sold', y='response', title='Sold x Response')"
   ]
  },
  {
   "cell_type": "code",
   "execution_count": 36,
   "metadata": {},
   "outputs": [
    {
     "data": {
      "text/plain": [
       "0    209934\n",
       "1      3273\n",
       "Name: response, dtype: int64"
      ]
     },
     "execution_count": 36,
     "metadata": {},
     "output_type": "execute_result"
    }
   ],
   "source": [
    "DATAclean[DATAclean['platform']==0]['response'].value_counts()"
   ]
  },
  {
   "cell_type": "code",
   "execution_count": 37,
   "metadata": {},
   "outputs": [
    {
     "data": {
      "text/plain": [
       "0    25561\n",
       "1      563\n",
       "Name: response, dtype: int64"
      ]
     },
     "execution_count": 37,
     "metadata": {},
     "output_type": "execute_result"
    }
   ],
   "source": [
    "DATAclean[DATAclean['platform']==1]['response'].value_counts()"
   ]
  },
  {
   "cell_type": "code",
   "execution_count": 38,
   "metadata": {},
   "outputs": [
    {
     "name": "stdout",
     "output_type": "stream",
     "text": [
      "34.3121746809432\n",
      "59.635747785304844\n",
      "235538\n",
      "3838\n",
      "25563.283505844913\n",
      "41536.259779881315\n"
     ]
    }
   ],
   "source": [
    "DATA = DATA.drop_duplicates()\n",
    "DATAclean = DATA[DATA['seller_delivery_response_time'].notnull()].iloc[:,0:11]\n",
    "#sample1 = DATAclean[DATAclean['response']==0].sample(DATAclean[DATAclean['response']==1].shape[0])\n",
    "#sample2 = DATAclean[DATAclean['response']==1]\n",
    "#DATAclean = pd.concat([sample1,sample2],axis=0).reset_index()\n",
    "#DATAclean = DATAclean.drop(['index'],axis=1)\n",
    "\n",
    "response0=DATAclean[DATAclean['response']==0]\n",
    "print(response0['sold'].mean())\n",
    "response1=DATAclean[DATAclean['response']==1]\n",
    "print(response1['sold'].mean())\n",
    "print(DATAclean[DATAclean['response']==0].shape[0])\n",
    "print(DATAclean[DATAclean['response']==1].shape[0])\n",
    "print(response0['sold'].var())\n",
    "print(response1['sold'].var())"
   ]
  },
  {
   "cell_type": "code",
   "execution_count": 39,
   "metadata": {
    "scrolled": false
   },
   "outputs": [
    {
     "name": "stdout",
     "output_type": "stream",
     "text": [
      "9.528746425870649\n"
     ]
    }
   ],
   "source": [
    "print(response0['free_shipping_coverage_count'].var())"
   ]
  },
  {
   "cell_type": "code",
   "execution_count": 43,
   "metadata": {},
   "outputs": [
    {
     "name": "stdout",
     "output_type": "stream",
     "text": [
      "0.8372766475628689\n"
     ]
    }
   ],
   "source": [
    "import scipy \n",
    "from scipy.stats import spearmanr\n",
    "spearmanr_coefficient, p_value = spearmanr(DATAclean['favorite_count'],DATAclean['sold'])\n",
    "print (spearmanr_coefficient)"
   ]
  },
  {
   "cell_type": "code",
   "execution_count": 44,
   "metadata": {},
   "outputs": [
    {
     "name": "stdout",
     "output_type": "stream",
     "text": [
      "0.9423365982379007\n"
     ]
    }
   ],
   "source": [
    "spearmanr_coefficient, p_value = spearmanr(DATAclean['view_count'],DATAclean['favorite_count'])\n",
    "print (spearmanr_coefficient)"
   ]
  },
  {
   "cell_type": "code",
   "execution_count": 45,
   "metadata": {},
   "outputs": [
    {
     "name": "stdout",
     "output_type": "stream",
     "text": [
      "0.43095360977429176\n"
     ]
    }
   ],
   "source": [
    "spearmanr_coefficient, p_value = spearmanr(DATAclean['stock'],DATAclean['sold'])\n",
    "print (spearmanr_coefficient)"
   ]
  },
  {
   "cell_type": "code",
   "execution_count": 46,
   "metadata": {},
   "outputs": [
    {
     "data": {
      "text/html": [
       "<div>\n",
       "<style scoped>\n",
       "    .dataframe tbody tr th:only-of-type {\n",
       "        vertical-align: middle;\n",
       "    }\n",
       "\n",
       "    .dataframe tbody tr th {\n",
       "        vertical-align: top;\n",
       "    }\n",
       "\n",
       "    .dataframe thead th {\n",
       "        text-align: right;\n",
       "    }\n",
       "</style>\n",
       "<table border=\"1\" class=\"dataframe\">\n",
       "  <thead>\n",
       "    <tr style=\"text-align: right;\">\n",
       "      <th></th>\n",
       "      <th>response</th>\n",
       "      <th>platform</th>\n",
       "      <th>category_name</th>\n",
       "      <th>stock</th>\n",
       "      <th>free_shipping_coverage_count</th>\n",
       "      <th>courier_count</th>\n",
       "      <th>view_count</th>\n",
       "      <th>seller_delivery_response_time</th>\n",
       "      <th>favorite_count</th>\n",
       "      <th>sold</th>\n",
       "      <th>...</th>\n",
       "      <th>varSeller_9</th>\n",
       "      <th>varProduct_1</th>\n",
       "      <th>varProduct_2</th>\n",
       "      <th>varProduct_5</th>\n",
       "      <th>varGeneral_1</th>\n",
       "      <th>condition</th>\n",
       "      <th>varSeller_2</th>\n",
       "      <th>varSeller_3</th>\n",
       "      <th>varProduct_3</th>\n",
       "      <th>varProduct_4</th>\n",
       "    </tr>\n",
       "  </thead>\n",
       "  <tbody>\n",
       "    <tr>\n",
       "      <th>1</th>\n",
       "      <td>0</td>\n",
       "      <td>0</td>\n",
       "      <td>438</td>\n",
       "      <td>9</td>\n",
       "      <td>0</td>\n",
       "      <td>5</td>\n",
       "      <td>3</td>\n",
       "      <td>3.811863</td>\n",
       "      <td>0</td>\n",
       "      <td>2</td>\n",
       "      <td>...</td>\n",
       "      <td>2</td>\n",
       "      <td>0</td>\n",
       "      <td>17</td>\n",
       "      <td>0.0</td>\n",
       "      <td>2</td>\n",
       "      <td>0</td>\n",
       "      <td>0</td>\n",
       "      <td>0</td>\n",
       "      <td>0</td>\n",
       "      <td>0</td>\n",
       "    </tr>\n",
       "    <tr>\n",
       "      <th>3</th>\n",
       "      <td>0</td>\n",
       "      <td>0</td>\n",
       "      <td>1</td>\n",
       "      <td>3</td>\n",
       "      <td>2</td>\n",
       "      <td>2</td>\n",
       "      <td>36</td>\n",
       "      <td>2.880625</td>\n",
       "      <td>4</td>\n",
       "      <td>2</td>\n",
       "      <td>...</td>\n",
       "      <td>7</td>\n",
       "      <td>4</td>\n",
       "      <td>22</td>\n",
       "      <td>5.0</td>\n",
       "      <td>1</td>\n",
       "      <td>0</td>\n",
       "      <td>1</td>\n",
       "      <td>0</td>\n",
       "      <td>0</td>\n",
       "      <td>0</td>\n",
       "    </tr>\n",
       "    <tr>\n",
       "      <th>4</th>\n",
       "      <td>0</td>\n",
       "      <td>0</td>\n",
       "      <td>131</td>\n",
       "      <td>6</td>\n",
       "      <td>0</td>\n",
       "      <td>12</td>\n",
       "      <td>102</td>\n",
       "      <td>2.341068</td>\n",
       "      <td>236</td>\n",
       "      <td>48</td>\n",
       "      <td>...</td>\n",
       "      <td>32</td>\n",
       "      <td>236</td>\n",
       "      <td>21</td>\n",
       "      <td>4.9</td>\n",
       "      <td>1</td>\n",
       "      <td>0</td>\n",
       "      <td>1</td>\n",
       "      <td>0</td>\n",
       "      <td>0</td>\n",
       "      <td>0</td>\n",
       "    </tr>\n",
       "    <tr>\n",
       "      <th>5</th>\n",
       "      <td>0</td>\n",
       "      <td>1</td>\n",
       "      <td>247</td>\n",
       "      <td>3</td>\n",
       "      <td>0</td>\n",
       "      <td>15</td>\n",
       "      <td>88</td>\n",
       "      <td>4.580644</td>\n",
       "      <td>0</td>\n",
       "      <td>0</td>\n",
       "      <td>...</td>\n",
       "      <td>38</td>\n",
       "      <td>0</td>\n",
       "      <td>22</td>\n",
       "      <td>0.0</td>\n",
       "      <td>1</td>\n",
       "      <td>0</td>\n",
       "      <td>0</td>\n",
       "      <td>0</td>\n",
       "      <td>0</td>\n",
       "      <td>0</td>\n",
       "    </tr>\n",
       "    <tr>\n",
       "      <th>7</th>\n",
       "      <td>0</td>\n",
       "      <td>1</td>\n",
       "      <td>52</td>\n",
       "      <td>32</td>\n",
       "      <td>5</td>\n",
       "      <td>4</td>\n",
       "      <td>45</td>\n",
       "      <td>4.571094</td>\n",
       "      <td>6</td>\n",
       "      <td>0</td>\n",
       "      <td>...</td>\n",
       "      <td>37</td>\n",
       "      <td>6</td>\n",
       "      <td>22</td>\n",
       "      <td>0.0</td>\n",
       "      <td>1</td>\n",
       "      <td>0</td>\n",
       "      <td>0</td>\n",
       "      <td>0</td>\n",
       "      <td>0</td>\n",
       "      <td>1</td>\n",
       "    </tr>\n",
       "  </tbody>\n",
       "</table>\n",
       "<p>5 rows × 30 columns</p>\n",
       "</div>"
      ],
      "text/plain": [
       "   response  platform  category_name  stock  free_shipping_coverage_count  \\\n",
       "1         0         0            438      9                             0   \n",
       "3         0         0              1      3                             2   \n",
       "4         0         0            131      6                             0   \n",
       "5         0         1            247      3                             0   \n",
       "7         0         1             52     32                             5   \n",
       "\n",
       "   courier_count  view_count  seller_delivery_response_time  favorite_count  \\\n",
       "1              5           3                       3.811863               0   \n",
       "3              2          36                       2.880625               4   \n",
       "4             12         102                       2.341068             236   \n",
       "5             15          88                       4.580644               0   \n",
       "7              4          45                       4.571094               6   \n",
       "\n",
       "   sold      ...       varSeller_9  varProduct_1  varProduct_2  varProduct_5  \\\n",
       "1     2      ...                 2             0            17           0.0   \n",
       "3     2      ...                 7             4            22           5.0   \n",
       "4    48      ...                32           236            21           4.9   \n",
       "5     0      ...                38             0            22           0.0   \n",
       "7     0      ...                37             6            22           0.0   \n",
       "\n",
       "   varGeneral_1  condition  varSeller_2  varSeller_3  varProduct_3  \\\n",
       "1             2          0            0            0             0   \n",
       "3             1          0            1            0             0   \n",
       "4             1          0            1            0             0   \n",
       "5             1          0            0            0             0   \n",
       "7             1          0            0            0             0   \n",
       "\n",
       "   varProduct_4  \n",
       "1             0  \n",
       "3             0  \n",
       "4             0  \n",
       "5             0  \n",
       "7             1  \n",
       "\n",
       "[5 rows x 30 columns]"
      ]
     },
     "execution_count": 46,
     "metadata": {},
     "output_type": "execute_result"
    }
   ],
   "source": [
    "#Membuang duplicated data\n",
    "DATA = DATA.drop_duplicates()\n",
    "#Membuang semua data missing value\n",
    "DATAclean = DATA[DATA['seller_delivery_response_time'].notnull()]\n",
    "DATAclean = DATAclean[DATAclean['varUser_1'].notnull()]\n",
    "DATAclean = DATAclean[DATAclean['varSeller_6'].notnull()]\n",
    "DATAclean = DATAclean[DATAclean['varSeller_7'].notnull()]\n",
    "DATAclean = DATAclean[DATAclean['varSeller_8'].notnull()]\n",
    "#Mengubah kolom yang memiliki value string menjadi numerik agar dapat dilakukan modeling\n",
    "DATAclean = pd.get_dummies(DATAclean, columns=['condition'], drop_first=True)\n",
    "DATAclean = pd.get_dummies(DATAclean, columns=['varSeller_2'], drop_first=True)\n",
    "DATAclean = pd.get_dummies(DATAclean, columns=['varSeller_3'], drop_first=True)\n",
    "DATAclean = pd.get_dummies(DATAclean, columns=['varProduct_3'], drop_first=True)\n",
    "DATAclean = pd.get_dummies(DATAclean, columns=['varProduct_4'], drop_first=True)\n",
    "#Memperbaiki nama kolom yang berubah akibat code diatas\n",
    "names = DATAclean.columns.tolist()\n",
    "names[names.index('condition_used')] = 'condition'\n",
    "names[names.index('varSeller_2_True')] = 'varSeller_2'\n",
    "names[names.index('varSeller_3_True')] = 'varSeller_3'\n",
    "names[names.index('varProduct_3_True')] = 'varProduct_3'\n",
    "names[names.index('varProduct_4_True')] = 'varProduct_4'\n",
    "DATAclean.columns = names\n",
    "DATAclean.head()"
   ]
  },
  {
   "cell_type": "code",
   "execution_count": 47,
   "metadata": {},
   "outputs": [
    {
     "name": "stdout",
     "output_type": "stream",
     "text": [
      "Spearman Correlation of favorite_count and view_count is 0.9423365982379007\n",
      "Spearman Correlation of sold and view_count is 0.801908953795821\n",
      "Spearman Correlation of sold and favorite_count is 0.837276647562869\n",
      "Spearman Correlation of varSeller_1 and varUser_1 is 0.996329213036093\n",
      "Spearman Correlation of varSeller_9 and varSeller_4 is 1.0\n",
      "Spearman Correlation of varProduct_1 and view_count is 0.9423365982379007\n",
      "Spearman Correlation of varProduct_1 and favorite_count is 1.0\n",
      "Spearman Correlation of varProduct_1 and sold is 0.8372766475628689\n",
      "Spearman Correlation of varSeller_2 and varSeller_5 is 0.9191837362450964\n"
     ]
    }
   ],
   "source": [
    "import scipy \n",
    "from scipy.stats import spearmanr\n",
    "\n",
    "rows, columns = DATAclean.shape\n",
    "for i in range (columns):\n",
    "    for j in range (columns):\n",
    "        spearmanr_coefficient, p_value = spearmanr(DATAclean.iloc[:,i],DATAclean.iloc[:,j])\n",
    "        if spearmanr_coefficient>.8 and i>j:\n",
    "            print ('Spearman Correlation of', DATAclean.columns[i], 'and', DATAclean.columns[j], 'is', spearmanr_coefficient)"
   ]
  },
  {
   "cell_type": "code",
   "execution_count": 48,
   "metadata": {},
   "outputs": [],
   "source": [
    "DATAnoCorr=DATAclean.drop(columns=['view_count','sold','varSeller_1','varSeller_9','varProduct_1','varSeller_2'])"
   ]
  },
  {
   "cell_type": "code",
   "execution_count": 49,
   "metadata": {},
   "outputs": [
    {
     "name": "stdout",
     "output_type": "stream",
     "text": [
      "Jumlah pasangan feature yang berkorelasi adalah: 0\n"
     ]
    }
   ],
   "source": [
    "import scipy \n",
    "from scipy.stats import spearmanr\n",
    "\n",
    "rows, columns = DATAnoCorr.shape\n",
    "count=0\n",
    "for i in range (columns):\n",
    "    for j in range (columns):\n",
    "        spearmanr_coefficient, p_value = spearmanr(DATAnoCorr.iloc[:,i],DATAnoCorr.iloc[:,j])\n",
    "        if spearmanr_coefficient>.8 and i>j:\n",
    "            print ('Spearman Correlation of', DATAnoCorr.columns[i], 'and', DATAnoCorr.columns[j], 'is', spearmanr_coefficient)\n",
    "            count=count+1\n",
    "            \n",
    "print('Jumlah pasangan feature yang berkorelasi adalah:', count)"
   ]
  },
  {
   "cell_type": "code",
   "execution_count": 50,
   "metadata": {},
   "outputs": [],
   "source": [
    "import numpy as np\n",
    "import pandas as pd\n",
    "import seaborn as sns\n",
    "import matplotlib.pyplot as plt\n",
    "\n",
    "from sklearn.ensemble import RandomForestClassifier\n",
    "from sklearn.model_selection import cross_val_score\n",
    "\n",
    "DATA=pd.read_csv('DATA.csv', delimiter=';')"
   ]
  },
  {
   "cell_type": "code",
   "execution_count": 51,
   "metadata": {},
   "outputs": [],
   "source": [
    "#Membuang duplicated data\n",
    "DATA = DATA.drop_duplicates()\n",
    "#Membuang semua data missing value\n",
    "#sebelumnya missing value telah dicek terlebih dahulu\n",
    "#DATA.isnull().sum() \n",
    "DATAclean = DATA[DATA['seller_delivery_response_time'].notnull()]\n",
    "DATAclean = DATAclean[DATAclean['varUser_1'].notnull()]\n",
    "DATAclean = DATAclean[DATAclean['varSeller_6'].notnull()]\n",
    "DATAclean = DATAclean[DATAclean['varSeller_7'].notnull()]\n",
    "DATAclean = DATAclean[DATAclean['varSeller_8'].notnull()]\n",
    "#Balancing data\n",
    "sample1 = DATAclean[DATAclean['response']==0].sample(DATAclean[DATAclean['response']==1].shape[0])\n",
    "sample2 = DATAclean[DATAclean['response']==1]\n",
    "DATAclean = pd.concat([sample1,sample2],axis=0).reset_index()\n",
    "DATAclean = DATAclean.drop(['index'],axis=1)\n",
    "#Membuang low informative variable\n",
    "DATAclean=DATAclean.drop(columns=['category_name','view_count','sold'])\n",
    "#Membuang feature yang berkorelasi tinggi dengan feature lainnya\n",
    "DATAnoCorr=DATAclean.drop(columns=['varSeller_1','varSeller_9','varProduct_1','varSeller_2'])\n",
    "#Mengubah kolom yang memiliki value string menjadi numerik agar dapat dilakukan modeling\n",
    "DATAnoCorr= pd.get_dummies(DATAnoCorr, columns=['condition'], drop_first=True)\n",
    "DATAnoCorr= pd.get_dummies(DATAnoCorr, columns=['varSeller_3'], drop_first=True)\n",
    "DATAnoCorr= pd.get_dummies(DATAnoCorr, columns=['varProduct_3'], drop_first=True)\n",
    "DATAnoCorr= pd.get_dummies(DATAnoCorr, columns=['varProduct_4'], drop_first=True)"
   ]
  },
  {
   "cell_type": "code",
   "execution_count": 52,
   "metadata": {},
   "outputs": [],
   "source": [
    "#Memperbaiki nama kolom yang berubah akibat perubahan value string diatas\n",
    "names = DATAnoCorr.columns.tolist()\n",
    "names[names.index('condition_used')] = 'condition'\n",
    "names[names.index('varSeller_3_True')] = 'varSeller_3'\n",
    "names[names.index('varProduct_3_True')] = 'varProduct_3'\n",
    "names[names.index('varProduct_4_True')] = 'varProduct_4'\n",
    "DATAnoCorr.columns = names"
   ]
  },
  {
   "cell_type": "code",
   "execution_count": 53,
   "metadata": {},
   "outputs": [],
   "source": [
    "# Creating test and train data\n",
    "# Menggenerate kolom baru yang bernilai True sejumlah 75% total baris\n",
    "DATAnoCorr['is_train'] = np.random.uniform(0,1, len(DATAnoCorr)) <= 0.75 \n",
    "# Creating dataframes with test and training rows\n",
    "# Membagi train dan test data set berdasarkan nilai dari kolom 'is_train'\n",
    "train, test = DATAnoCorr[DATAnoCorr['is_train']==True], DATAnoCorr[DATAnoCorr['is_train']==False]"
   ]
  },
  {
   "cell_type": "code",
   "execution_count": 54,
   "metadata": {},
   "outputs": [
    {
     "data": {
      "text/plain": [
       "RandomForestClassifier(bootstrap=True, class_weight=None, criterion='gini',\n",
       "            max_depth=None, max_features='auto', max_leaf_nodes=None,\n",
       "            min_impurity_decrease=0.0, min_impurity_split=None,\n",
       "            min_samples_leaf=1, min_samples_split=100,\n",
       "            min_weight_fraction_leaf=0.0, n_estimators=10, n_jobs=2,\n",
       "            oob_score=False, random_state=None, verbose=0,\n",
       "            warm_start=False)"
      ]
     },
     "execution_count": 54,
     "metadata": {},
     "output_type": "execute_result"
    }
   ],
   "source": [
    "# Create list  of the feature column's name\n",
    "features = DATAnoCorr.columns[1:]\n",
    "# Creating a random forest Classifier\n",
    "clf = RandomForestClassifier(n_jobs=2, min_samples_split=100)\n",
    "\n",
    "# Training the Classifier\n",
    "clf.fit(train[features], train['response'])"
   ]
  },
  {
   "cell_type": "code",
   "execution_count": 55,
   "metadata": {},
   "outputs": [
    {
     "data": {
      "text/plain": [
       "0.5756943487589316"
      ]
     },
     "execution_count": 55,
     "metadata": {},
     "output_type": "execute_result"
    }
   ],
   "source": [
    "# Applying the trained Classifier to the test\n",
    "preds=clf.predict(test[features])\n",
    "\n",
    "# Mengecek akurasi dari modeling\n",
    "cross_val_score(clf,test[features],test['response']).mean()"
   ]
  },
  {
   "cell_type": "code",
   "execution_count": 57,
   "metadata": {},
   "outputs": [
    {
     "name": "stdout",
     "output_type": "stream",
     "text": [
      "             precision    recall  f1-score   support\n",
      "\n",
      "          0       0.52      0.63      0.57       638\n",
      "          1       0.68      0.58      0.62       875\n",
      "\n",
      "avg / total       0.61      0.60      0.60      1513\n",
      "\n"
     ]
    }
   ],
   "source": [
    "# Classification Report\n",
    "from sklearn.metrics import classification_report\n",
    "print (classification_report(preds,test['response']))"
   ]
  },
  {
   "cell_type": "code",
   "execution_count": 58,
   "metadata": {},
   "outputs": [
    {
     "data": {
      "text/html": [
       "<div>\n",
       "<style scoped>\n",
       "    .dataframe tbody tr th:only-of-type {\n",
       "        vertical-align: middle;\n",
       "    }\n",
       "\n",
       "    .dataframe tbody tr th {\n",
       "        vertical-align: top;\n",
       "    }\n",
       "\n",
       "    .dataframe thead th {\n",
       "        text-align: right;\n",
       "    }\n",
       "</style>\n",
       "<table border=\"1\" class=\"dataframe\">\n",
       "  <thead>\n",
       "    <tr style=\"text-align: right;\">\n",
       "      <th>Predicted Response</th>\n",
       "      <th>0</th>\n",
       "      <th>1</th>\n",
       "    </tr>\n",
       "    <tr>\n",
       "      <th>Actual Response</th>\n",
       "      <th></th>\n",
       "      <th></th>\n",
       "    </tr>\n",
       "  </thead>\n",
       "  <tbody>\n",
       "    <tr>\n",
       "      <th>0</th>\n",
       "      <td>402</td>\n",
       "      <td>371</td>\n",
       "    </tr>\n",
       "    <tr>\n",
       "      <th>1</th>\n",
       "      <td>236</td>\n",
       "      <td>504</td>\n",
       "    </tr>\n",
       "  </tbody>\n",
       "</table>\n",
       "</div>"
      ],
      "text/plain": [
       "Predicted Response    0    1\n",
       "Actual Response             \n",
       "0                   402  371\n",
       "1                   236  504"
      ]
     },
     "execution_count": 58,
     "metadata": {},
     "output_type": "execute_result"
    }
   ],
   "source": [
    "#Mengecek penyebaran data prediksi\n",
    "pd.crosstab(test['response'],preds, rownames=['Actual Response'], colnames=['Predicted Response'])"
   ]
  },
  {
   "cell_type": "code",
   "execution_count": 59,
   "metadata": {},
   "outputs": [],
   "source": [
    "import numpy as np\n",
    "import pandas as pd\n",
    "\n",
    "from pandas import Series, DataFrame\n",
    "\n",
    "from pylab import rcParams\n",
    "import seaborn as sb\n",
    "import matplotlib.pyplot as plt\n",
    "\n",
    "import sklearn\n",
    "from sklearn.preprocessing import scale\n",
    "from sklearn.linear_model import LogisticRegression\n",
    "from sklearn.model_selection import train_test_split, cross_val_score\n",
    "from sklearn import metrics\n",
    "from sklearn import preprocessing"
   ]
  },
  {
   "cell_type": "code",
   "execution_count": 60,
   "metadata": {},
   "outputs": [],
   "source": [
    "DATA=pd.read_csv('DATA.csv', delimiter=';')\n",
    "\n",
    "#Membuang duplicated data\n",
    "DATA = DATA.drop_duplicates()\n",
    "#Membuang semua data missing value\n",
    "#sebelumnya missing value telah dicek terlebih dahulu\n",
    "#DATA.isnull().sum() \n",
    "DATAclean = DATA[DATA['seller_delivery_response_time'].notnull()]\n",
    "DATAclean = DATAclean[DATAclean['varUser_1'].notnull()]\n",
    "DATAclean = DATAclean[DATAclean['varSeller_6'].notnull()]\n",
    "DATAclean = DATAclean[DATAclean['varSeller_7'].notnull()]\n",
    "DATAclean = DATAclean[DATAclean['varSeller_8'].notnull()]\n",
    "#Balancing data\n",
    "sample1 = DATAclean[DATAclean['response']==0].sample(DATAclean[DATAclean['response']==1].shape[0])\n",
    "sample2 = DATAclean[DATAclean['response']==1]\n",
    "DATAclean = pd.concat([sample1,sample2],axis=0).reset_index()\n",
    "DATAclean = DATAclean.drop(['index'],axis=1)\n",
    "#Membuang low informative variable\n",
    "DATAclean=DATAclean.drop(columns=['category_name','view_count','sold'])\n",
    "#Membuang feature yang berkorelasi tinggi dengan feature lainnya\n",
    "DATAnoCorr=DATAclean.drop(columns=['varSeller_1','varSeller_9','varProduct_1','varSeller_2'])\n",
    "#Mengubah kolom yang memiliki value string menjadi numerik agar dapat dilakukan modeling\n",
    "DATAnoCorr= pd.get_dummies(DATAnoCorr, columns=['condition'], drop_first=True)\n",
    "DATAnoCorr= pd.get_dummies(DATAnoCorr, columns=['varSeller_3'], drop_first=True)\n",
    "DATAnoCorr= pd.get_dummies(DATAnoCorr, columns=['varProduct_3'], drop_first=True)\n",
    "DATAnoCorr= pd.get_dummies(DATAnoCorr, columns=['varProduct_4'], drop_first=True)"
   ]
  },
  {
   "cell_type": "code",
   "execution_count": 61,
   "metadata": {},
   "outputs": [],
   "source": [
    "#Memperbaiki nama kolom yang berubah akibat perubahan value string diatas\n",
    "names = DATAnoCorr.columns.tolist()\n",
    "names[names.index('condition_used')] = 'condition'\n",
    "names[names.index('varSeller_3_True')] = 'varSeller_3'\n",
    "names[names.index('varProduct_3_True')] = 'varProduct_3'\n",
    "names[names.index('varProduct_4_True')] = 'varProduct_4'\n",
    "DATAnoCorr.columns = names"
   ]
  },
  {
   "cell_type": "code",
   "execution_count": 62,
   "metadata": {},
   "outputs": [],
   "source": [
    "#Menentukan variabel idependen x dan variabel dependen y\n",
    "x=DATAnoCorr.iloc[:,1:].values\n",
    "y=DATAnoCorr.iloc[:,0].values"
   ]
  },
  {
   "cell_type": "code",
   "execution_count": 63,
   "metadata": {},
   "outputs": [
    {
     "name": "stdout",
     "output_type": "stream",
     "text": [
      "0.6014492753623188\n"
     ]
    }
   ],
   "source": [
    "#Modeling Regresi Logistik\n",
    "LogReg= LogisticRegression()\n",
    "#Melakukan training pada classifier\n",
    "LogReg.fit(x,y)\n",
    "\n",
    "y_pred = LogReg.predict(x)\n",
    "from sklearn.metrics import classification_report\n",
    "\n",
    "#Mengecek akurasi\n",
    "print(cross_val_score(LogReg,x,y).mean())"
   ]
  },
  {
   "cell_type": "code",
   "execution_count": 64,
   "metadata": {},
   "outputs": [
    {
     "name": "stdout",
     "output_type": "stream",
     "text": [
      "             precision    recall  f1-score   support\n",
      "\n",
      "          0       0.61      0.59      0.60      3036\n",
      "          1       0.60      0.63      0.62      3036\n",
      "\n",
      "avg / total       0.61      0.61      0.61      6072\n",
      "\n"
     ]
    }
   ],
   "source": [
    "#Classification Report\n",
    "print (classification_report(y,y_pred))"
   ]
  },
  {
   "cell_type": "code",
   "execution_count": 65,
   "metadata": {},
   "outputs": [
    {
     "data": {
      "text/html": [
       "<div>\n",
       "<style scoped>\n",
       "    .dataframe tbody tr th:only-of-type {\n",
       "        vertical-align: middle;\n",
       "    }\n",
       "\n",
       "    .dataframe tbody tr th {\n",
       "        vertical-align: top;\n",
       "    }\n",
       "\n",
       "    .dataframe thead th {\n",
       "        text-align: right;\n",
       "    }\n",
       "</style>\n",
       "<table border=\"1\" class=\"dataframe\">\n",
       "  <thead>\n",
       "    <tr style=\"text-align: right;\">\n",
       "      <th>Predicted Response</th>\n",
       "      <th>0</th>\n",
       "      <th>1</th>\n",
       "    </tr>\n",
       "    <tr>\n",
       "      <th>Actual Response</th>\n",
       "      <th></th>\n",
       "      <th></th>\n",
       "    </tr>\n",
       "  </thead>\n",
       "  <tbody>\n",
       "    <tr>\n",
       "      <th>0</th>\n",
       "      <td>1777</td>\n",
       "      <td>1114</td>\n",
       "    </tr>\n",
       "    <tr>\n",
       "      <th>1</th>\n",
       "      <td>1259</td>\n",
       "      <td>1922</td>\n",
       "    </tr>\n",
       "  </tbody>\n",
       "</table>\n",
       "</div>"
      ],
      "text/plain": [
       "Predicted Response     0     1\n",
       "Actual Response               \n",
       "0                   1777  1114\n",
       "1                   1259  1922"
      ]
     },
     "execution_count": 65,
     "metadata": {},
     "output_type": "execute_result"
    }
   ],
   "source": [
    "#Mengecek penyebaran prediksi\n",
    "pd.crosstab(y_pred,y, rownames=['Actual Response'], colnames=['Predicted Response'])"
   ]
  }
 ],
 "metadata": {
  "kernelspec": {
   "display_name": "Python 3",
   "language": "python",
   "name": "python3"
  },
  "language_info": {
   "codemirror_mode": {
    "name": "ipython",
    "version": 3
   },
   "file_extension": ".py",
   "mimetype": "text/x-python",
   "name": "python",
   "nbconvert_exporter": "python",
   "pygments_lexer": "ipython3",
   "version": "3.7.0"
  }
 },
 "nbformat": 4,
 "nbformat_minor": 2
}
